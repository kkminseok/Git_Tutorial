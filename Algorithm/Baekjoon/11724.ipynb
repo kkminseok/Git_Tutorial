import sys
#BFS
from collections import deque

def BFS(graph, root,visited):
    if(visited[root]==1):
        return 0
    queue = deque([root])
    visited[root]=1
    while queue:
        n = queue.popleft()
        for i in range (len(graph[n])):
            y  = graph[n][i]
            if(y != 0 and visited[y]==0): 
                queue.append(y)
                visited[y]=1
    return 1


n,m = map(int,input().split())
graph = []
for i in range(n+1):
    line = []
    graph.append(line)

visited = [0] * (n+1) 
for i in range (0,m):
    first,second = map(int,input().split())
    graph[first].append(second)
    graph[second].append(first)
    
result = 0
for i in range (0,n+1):
    visited[i]=0
for i in range(1,n+1):
    result= result + BFS(graph,i,visited)
print(result)
