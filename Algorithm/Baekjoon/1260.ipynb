{
 "cells": [
  {
   "cell_type": "code",
   "execution_count": 60,
   "metadata": {},
   "outputs": [
    {
     "name": "stdout",
     "output_type": "stream",
     "text": [
      "4 5 1\n",
      "1 2\n",
      "1 3\n",
      "1 4\n",
      "2 4\n",
      "3 4\n",
      "1\n",
      "2\n",
      "4\n",
      "3\n",
      "1\n",
      "2\n",
      "3\n",
      "4\n"
     ]
    }
   ],
   "source": [
    "import sys\n",
    "#BFS\n",
    "from collections import deque\n",
    "\n",
    "def DFS(graph,root,visited):\n",
    "    visited[root] = 1\n",
    "    print(root)\n",
    "    \n",
    "    for i in range(len(graph[root])):\n",
    "        next = graph[root][i]\n",
    "        if(graph[root][i]!= 0 and visited[next]==0):\n",
    "            DFS(graph,next,visited)\n",
    "\n",
    "def BFS(graph, root,visited):\n",
    "    queue = deque([root])\n",
    "    visited[root]=1\n",
    "    while queue:\n",
    "        n = queue.popleft()\n",
    "        print(n)\n",
    "        for i in range (len(graph[n])):\n",
    "            if(graph[n][i] != 0 and visited[graph[n][i]]==0): \n",
    "                queue.append(graph[n][i])\n",
    "                visited[graph[n][i]]=1\n",
    "\n",
    "\n",
    "n,m,v = map(int,input().split())\n",
    "graph = [[0]* (n+1) for i in range(n+1)]\n",
    "visited = [0] * (n+1) \n",
    "for i in range (0,m):\n",
    "    first,second = map(int,input().split())\n",
    "    graph[first][second] = second\n",
    "    graph[second][first]= first\n",
    "\n",
    "DFS(graph,v,visited)\n",
    "for i in range (0,n+1):\n",
    "    visited[i]=0\n",
    "BFS(graph,v,visited)"
   ]
  },
  {
   "cell_type": "markdown",
   "metadata": {},
   "source": [
    "##### "
   ]
  },
  {
   "cell_type": "markdown",
   "metadata": {},
   "source": [
    "#### "
   ]
  },
  {
   "cell_type": "code",
   "execution_count": null,
   "metadata": {},
   "outputs": [],
   "source": []
  }
 ],
 "metadata": {
  "kernelspec": {
   "display_name": "Python 3",
   "language": "python",
   "name": "python3"
  },
  "language_info": {
   "codemirror_mode": {
    "name": "ipython",
    "version": 3
   },
   "file_extension": ".py",
   "mimetype": "text/x-python",
   "name": "python",
   "nbconvert_exporter": "python",
   "pygments_lexer": "ipython3",
   "version": "3.7.7"
  }
 },
 "nbformat": 4,
 "nbformat_minor": 4
}
