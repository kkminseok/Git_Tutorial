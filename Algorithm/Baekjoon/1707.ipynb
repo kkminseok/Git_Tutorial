from collections import deque
def BFS(start,li,mapz):
    queue = deque([start])
    mapz[start] = 1
    while queue:
        curr = queue.popleft()
        for i in range (0,len(li[curr])):
            ver = li[curr][i]
            if mapz[ver] != 0:
                if mapz[curr] == mapz[ver]:
                    return False
            else : 
                queue.append(ver)
                mapz[ver] = 3-mapz[curr]
    return True

t = int(input())

for i in range (0,t):
    mapz = [0] * 20001
    result = True
    li = []
    for j in range (0,20001):
        line = []
        li.append(line)

    v,e = map(int,input().split())
    for j in range (0,e):
        first,second = map(int,input().split())
        li[first].append(second)
        li[second].append(first)
        
    for i in range(1,v+1):
        if mapz[i] == 0 :
            result = BFS(i,li,mapz)
            if result == False :
                print("NO")
                break
    if result : 
        print("YES")
